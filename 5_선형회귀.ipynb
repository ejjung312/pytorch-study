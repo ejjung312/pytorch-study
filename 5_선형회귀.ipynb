{
  "nbformat": 4,
  "nbformat_minor": 0,
  "metadata": {
    "colab": {
      "provenance": [],
      "authorship_tag": "ABX9TyMDoQxeljPcaoMBFRwDnJYj"
    },
    "kernelspec": {
      "name": "python3",
      "display_name": "Python 3"
    },
    "language_info": {
      "name": "python"
    }
  },
  "cells": [
    {
      "cell_type": "code",
      "execution_count": 2,
      "metadata": {
        "id": "D4A8EOpt8-TM"
      },
      "outputs": [],
      "source": [
        "import torch\n",
        "import torch.nn as nn\n",
        "\n",
        "# 입력: 2차원, 출력: 3차원\n",
        "l3 = nn.Linear(2, 3)"
      ]
    },
    {
      "cell_type": "markdown",
      "source": [
        "## 1입력 1출력"
      ],
      "metadata": {
        "id": "2SOvYcPqCii5"
      }
    },
    {
      "cell_type": "code",
      "source": [
        "# 난수 시드값 고정\n",
        "torch.manual_seed(123)\n",
        "\n",
        "# 입력:1, 출력:1 선형 함수의 정의\n",
        "l1 = nn.Linear(1, 1)\n",
        "\n",
        "print(l1)"
      ],
      "metadata": {
        "colab": {
          "base_uri": "https://localhost:8080/"
        },
        "id": "qR2tSa2S-H6S",
        "outputId": "30dcf971-3844-4914-da4e-66df0b6e8b7f"
      },
      "execution_count": 3,
      "outputs": [
        {
          "output_type": "stream",
          "name": "stdout",
          "text": [
            "Linear(in_features=1, out_features=1, bias=True)\n"
          ]
        }
      ]
    },
    {
      "cell_type": "code",
      "source": [
        "# 파라미터명, 파라미터 값, shape 표시\n",
        "for param in l1.named_parameters():\n",
        "  print('name: ', param[0])\n",
        "  print('tensor: ', param[1])\n",
        "  print('shape: ', param[1].shape)"
      ],
      "metadata": {
        "colab": {
          "base_uri": "https://localhost:8080/"
        },
        "id": "lbqJ6GVM-WMK",
        "outputId": "ef239da7-b21e-4154-f487-aa796e7f2abb"
      },
      "execution_count": 6,
      "outputs": [
        {
          "output_type": "stream",
          "name": "stdout",
          "text": [
            "name:  weight\n",
            "tensor:  Parameter containing:\n",
            "tensor([[-0.4078]], requires_grad=True)\n",
            "shape:  torch.Size([1, 1])\n",
            "name:  bias\n",
            "tensor:  Parameter containing:\n",
            "tensor([0.0331], requires_grad=True)\n",
            "shape:  torch.Size([1])\n"
          ]
        }
      ]
    },
    {
      "cell_type": "code",
      "source": [
        "# 파라미터 명시적인 값 설정\n",
        "nn.init.constant_(l1.weight, 2.0)\n",
        "nn.init.constant_(l1.bias, 1.0)\n",
        "\n",
        "# 결과 확인\n",
        "print(l1.weight)\n",
        "print(l1.bias)"
      ],
      "metadata": {
        "colab": {
          "base_uri": "https://localhost:8080/"
        },
        "id": "0EcRSxYe-wSd",
        "outputId": "4356dae6-fdee-4374-bd98-b2a69ed2e86d"
      },
      "execution_count": 7,
      "outputs": [
        {
          "output_type": "stream",
          "name": "stdout",
          "text": [
            "Parameter containing:\n",
            "tensor([[2.]], requires_grad=True)\n",
            "Parameter containing:\n",
            "tensor([1.], requires_grad=True)\n"
          ]
        }
      ]
    },
    {
      "cell_type": "code",
      "source": [
        "# 테스트용 데이터 생성\n",
        "import numpy as np\n",
        "\n",
        "# x_np를 넘파이 배열로 정의\n",
        "x_np = np.arange(-2, 2.1, 1)\n",
        "\n",
        "# 텐서 변수화\n",
        "x = torch.tensor(x_np).float()\n",
        "\n",
        "# (N,1) 사이즈로 변경\n",
        "# [1,1] 행렬 형태의 weight와 연산을 위해 변경\n",
        "x = x.view(-1, 1)\n",
        "\n",
        "# 결과 확인\n",
        "print(x.shape)\n",
        "print(x)"
      ],
      "metadata": {
        "colab": {
          "base_uri": "https://localhost:8080/"
        },
        "id": "PCpVxgMj_v35",
        "outputId": "e79dd548-e192-4ecb-e3b4-4ce34365071b"
      },
      "execution_count": 9,
      "outputs": [
        {
          "output_type": "stream",
          "name": "stdout",
          "text": [
            "torch.Size([5, 1])\n",
            "tensor([[-2.],\n",
            "        [-1.],\n",
            "        [ 0.],\n",
            "        [ 1.],\n",
            "        [ 2.]])\n"
          ]
        }
      ]
    },
    {
      "cell_type": "code",
      "source": [
        "# 1차 함수 테스트\n",
        "y = l1(x)\n",
        "\n",
        "print(y.shape)\n",
        "print(y.data)"
      ],
      "metadata": {
        "colab": {
          "base_uri": "https://localhost:8080/"
        },
        "id": "cl4qHaZlABXT",
        "outputId": "177caab3-156d-43cb-82b9-ada3cde7acc3"
      },
      "execution_count": 10,
      "outputs": [
        {
          "output_type": "stream",
          "name": "stdout",
          "text": [
            "torch.Size([5, 1])\n",
            "tensor([[-3.],\n",
            "        [-1.],\n",
            "        [ 1.],\n",
            "        [ 3.],\n",
            "        [ 5.]])\n"
          ]
        }
      ]
    },
    {
      "cell_type": "markdown",
      "source": [
        "## 2입력 1출력"
      ],
      "metadata": {
        "id": "vaKvRYPdCZMp"
      }
    },
    {
      "cell_type": "code",
      "source": [
        "# 입력: 2, 출력: 1 선형 함수 정의\n",
        "l2 = nn.Linear(2,1)\n",
        "\n",
        "# 초깃값 설정\n",
        "nn.init.constant_(l2.weight, 1.0)\n",
        "nn.init.constant_(l2.bias, 2.0)\n",
        "\n",
        "# 결과 확인\n",
        "print(l2.weight)\n",
        "print(l2.bias)"
      ],
      "metadata": {
        "colab": {
          "base_uri": "https://localhost:8080/"
        },
        "id": "HmaQuhjBAgqA",
        "outputId": "e47baa46-7d03-4469-b706-26579898558a"
      },
      "execution_count": 11,
      "outputs": [
        {
          "output_type": "stream",
          "name": "stdout",
          "text": [
            "Parameter containing:\n",
            "tensor([[1., 1.]], requires_grad=True)\n",
            "Parameter containing:\n",
            "tensor([2.], requires_grad=True)\n"
          ]
        }
      ]
    },
    {
      "cell_type": "code",
      "source": [
        "# 2차원 넘파일 배열\n",
        "x2_np = np.array([[0,0], [0,1], [1,0], [1,1]])\n",
        "\n",
        "# 텐서 변수화\n",
        "x2 = torch.tensor(x2_np).float()\n",
        "\n",
        "# 결과 확인\n",
        "print(x2.shape)\n",
        "print(x2)"
      ],
      "metadata": {
        "colab": {
          "base_uri": "https://localhost:8080/"
        },
        "id": "8-1-nbs_BOSq",
        "outputId": "8ef8320e-ed78-4141-a5c9-086305d4c743"
      },
      "execution_count": 12,
      "outputs": [
        {
          "output_type": "stream",
          "name": "stdout",
          "text": [
            "torch.Size([4, 2])\n",
            "tensor([[0., 0.],\n",
            "        [0., 1.],\n",
            "        [1., 0.],\n",
            "        [1., 1.]])\n"
          ]
        }
      ]
    },
    {
      "cell_type": "code",
      "source": [
        "# 함수 값 계산\n",
        "y2 = l2(x2)\n",
        "\n",
        "# shape 확인\n",
        "print(y2.shape)\n",
        "\n",
        "# 값 확인\n",
        "print(y2.data)"
      ],
      "metadata": {
        "colab": {
          "base_uri": "https://localhost:8080/"
        },
        "id": "VCr3Hh4MBZmM",
        "outputId": "234a3ca1-c366-4234-d47b-b044d603b556"
      },
      "execution_count": 14,
      "outputs": [
        {
          "output_type": "stream",
          "name": "stdout",
          "text": [
            "torch.Size([4, 1])\n",
            "tensor([[2.],\n",
            "        [3.],\n",
            "        [3.],\n",
            "        [4.]])\n"
          ]
        }
      ]
    },
    {
      "cell_type": "markdown",
      "source": [
        "## 2입력 3출력"
      ],
      "metadata": {
        "id": "1v6YsZUNCVpK"
      }
    },
    {
      "cell_type": "code",
      "source": [
        "# 입력:2, 출력: 3 선형 함수 정의\n",
        "l3 = nn.Linear(2, 3)\n",
        "\n",
        "# 초깃값 설정\n",
        "nn.init.constant_(l3.weight[0,:], 1.0)\n",
        "nn.init.constant_(l3.weight[1,:], 2.0)\n",
        "nn.init.constant_(l3.weight[2,:], 3.0)\n",
        "nn.init.constant_(l3.bias, 2.0)\n",
        "\n",
        "# 결과 확인\n",
        "print(l3.weight)\n",
        "print(l3.bias)"
      ],
      "metadata": {
        "colab": {
          "base_uri": "https://localhost:8080/"
        },
        "id": "mu06eJD1BngX",
        "outputId": "d9d054f4-caf6-4ba3-e9a2-6d3063e24896"
      },
      "execution_count": 16,
      "outputs": [
        {
          "output_type": "stream",
          "name": "stdout",
          "text": [
            "Parameter containing:\n",
            "tensor([[1., 1.],\n",
            "        [2., 2.],\n",
            "        [3., 3.]], requires_grad=True)\n",
            "Parameter containing:\n",
            "tensor([2., 2., 2.], requires_grad=True)\n"
          ]
        }
      ]
    },
    {
      "cell_type": "code",
      "source": [
        "# 함수 값 계산\n",
        "y3 = l3(x2)\n",
        "\n",
        "# shape 확인\n",
        "print(y3.shape)\n",
        "\n",
        "# 값 확인\n",
        "print(y3.data)\n",
        "\n",
        "print(x2)"
      ],
      "metadata": {
        "colab": {
          "base_uri": "https://localhost:8080/"
        },
        "id": "fubf3E7JCJsU",
        "outputId": "4c9f43ca-a7d4-4b5b-c418-f6f07009e118"
      },
      "execution_count": 18,
      "outputs": [
        {
          "output_type": "stream",
          "name": "stdout",
          "text": [
            "torch.Size([4, 3])\n",
            "tensor([[2., 2., 2.],\n",
            "        [3., 4., 5.],\n",
            "        [3., 4., 5.],\n",
            "        [4., 6., 8.]])\n",
            "tensor([[0., 0.],\n",
            "        [0., 1.],\n",
            "        [1., 0.],\n",
            "        [1., 1.]])\n"
          ]
        }
      ]
    },
    {
      "cell_type": "markdown",
      "source": [
        "# 모델 정의"
      ],
      "metadata": {
        "id": "sV8H4Io3EXBI"
      }
    },
    {
      "cell_type": "code",
      "source": [
        "class Net(nn.Module):\n",
        "  def __init__(self, n_input, n_output):\n",
        "    # 부모 클래스 nn.Module 초기화\n",
        "    super().__init__()\n",
        "\n",
        "    # 출력층 정의\n",
        "    self.l1 = nn.Linear(n_input, n_output)\n",
        "\n",
        "  # 예측 함수 정의\n",
        "  def forward(self, x):\n",
        "    x1 = self.l1(x) # 선형 회귀\n",
        "    return x1"
      ],
      "metadata": {
        "id": "n65hHhl_EYMv"
      },
      "execution_count": 19,
      "outputs": []
    },
    {
      "cell_type": "code",
      "source": [
        "# 더미 입력\n",
        "inputs = torch.ones(100, 1)\n",
        "\n",
        "# 인스턴스 생성(1 입력, 1 출력 선형 모델)\n",
        "n_input = 1\n",
        "n_output = 1\n",
        "net = Net(n_input, n_output)\n",
        "\n",
        "# 예측\n",
        "outputs = net(inputs)"
      ],
      "metadata": {
        "id": "hXPJeN1pEri1"
      },
      "execution_count": 22,
      "outputs": []
    },
    {
      "cell_type": "code",
      "source": [],
      "metadata": {
        "id": "5VPZmAmTEzwk"
      },
      "execution_count": null,
      "outputs": []
    }
  ]
}
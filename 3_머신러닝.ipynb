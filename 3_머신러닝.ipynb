{
  "nbformat": 4,
  "nbformat_minor": 0,
  "metadata": {
    "colab": {
      "provenance": [],
      "authorship_tag": "ABX9TyMgxb8I6OeU4an4IvH14KAd"
    },
    "kernelspec": {
      "name": "python3",
      "display_name": "Python 3"
    },
    "language_info": {
      "name": "python"
    }
  },
  "cells": [
    {
      "cell_type": "code",
      "source": [
        "import torch\n",
        "import numpy as np\n",
        "import matplotlib.pyplot as plt"
      ],
      "metadata": {
        "id": "WvvW2iIdgoFC"
      },
      "execution_count": 3,
      "outputs": []
    },
    {
      "cell_type": "code",
      "source": [
        "!apt-get update -qq         # apt-get 패키지 설치 명령어, -qq : 에러외 메세지 숨기기\n",
        "!apt-get install fonts-nanum* -qq #나눔글꼴 설치"
      ],
      "metadata": {
        "colab": {
          "base_uri": "https://localhost:8080/"
        },
        "id": "hYiQdNtMickv",
        "outputId": "c1d718c1-b8a1-4464-cd90-13427dc45fe6"
      },
      "execution_count": 14,
      "outputs": [
        {
          "output_type": "stream",
          "name": "stdout",
          "text": [
            "W: Skipping acquire of configured file 'main/source/Sources' as repository 'https://r2u.stat.illinois.edu/ubuntu jammy InRelease' does not seem to provide it (sources.list entry misspelt?)\n",
            "Selecting previously unselected package fonts-nanum.\n",
            "(Reading database ... 124947 files and directories currently installed.)\n",
            "Preparing to unpack .../fonts-nanum_20200506-1_all.deb ...\n",
            "Unpacking fonts-nanum (20200506-1) ...\n",
            "Selecting previously unselected package fonts-nanum-coding.\n",
            "Preparing to unpack .../fonts-nanum-coding_2.5-3_all.deb ...\n",
            "Unpacking fonts-nanum-coding (2.5-3) ...\n",
            "Selecting previously unselected package fonts-nanum-eco.\n",
            "Preparing to unpack .../fonts-nanum-eco_1.000-7_all.deb ...\n",
            "Unpacking fonts-nanum-eco (1.000-7) ...\n",
            "Selecting previously unselected package fonts-nanum-extra.\n",
            "Preparing to unpack .../fonts-nanum-extra_20200506-1_all.deb ...\n",
            "Unpacking fonts-nanum-extra (20200506-1) ...\n",
            "Setting up fonts-nanum-extra (20200506-1) ...\n",
            "Setting up fonts-nanum (20200506-1) ...\n",
            "Setting up fonts-nanum-coding (2.5-3) ...\n",
            "Setting up fonts-nanum-eco (1.000-7) ...\n",
            "Processing triggers for fontconfig (2.13.1-4.2ubuntu5) ...\n"
          ]
        }
      ]
    },
    {
      "cell_type": "code",
      "source": [
        "from matplotlib import font_manager\n",
        "\n",
        "font_manager.findSystemFonts()"
      ],
      "metadata": {
        "colab": {
          "base_uri": "https://localhost:8080/"
        },
        "id": "IOi1yARdiStg",
        "outputId": "4dce0c52-ef46-49e8-db80-33a81b6bb159"
      },
      "execution_count": 15,
      "outputs": [
        {
          "output_type": "execute_result",
          "data": {
            "text/plain": [
              "['/usr/share/fonts/truetype/liberation/LiberationMono-Regular.ttf',\n",
              " '/usr/share/fonts/truetype/nanum/NanumBarunGothic-YetHangul.ttf',\n",
              " '/usr/share/fonts/truetype/nanum/NanumGothicExtraBold.ttf',\n",
              " '/usr/share/fonts/truetype/nanum/NanumSquare_acB.ttf',\n",
              " '/usr/share/fonts/truetype/nanum/NanumSquare_acL.ttf',\n",
              " '/usr/share/fonts/truetype/liberation/LiberationSans-BoldItalic.ttf',\n",
              " '/usr/share/fonts/truetype/nanum/NanumSquareEB.ttf',\n",
              " '/usr/share/fonts/truetype/nanum/NanumSquare_acR.ttf',\n",
              " '/usr/share/fonts/truetype/nanum/NanumSquareRoundB.ttf',\n",
              " '/usr/share/fonts/truetype/liberation/LiberationSerif-Italic.ttf',\n",
              " '/usr/share/fonts/truetype/nanum/NanumPen.ttf',\n",
              " '/usr/share/fonts/truetype/nanum/NanumBarunGothic.ttf',\n",
              " '/usr/share/fonts/truetype/nanum/NanumMyeongjoBold.ttf',\n",
              " '/usr/share/fonts/truetype/nanum/NanumGothicLight.ttf',\n",
              " '/usr/share/fonts/truetype/liberation/LiberationSans-Bold.ttf',\n",
              " '/usr/share/fonts/truetype/liberation/LiberationSerif-BoldItalic.ttf',\n",
              " '/usr/share/fonts/truetype/liberation/LiberationSans-Regular.ttf',\n",
              " '/usr/share/fonts/truetype/nanum/NanumBarunGothicLight.ttf',\n",
              " '/usr/share/fonts/truetype/liberation/LiberationSansNarrow-Regular.ttf',\n",
              " '/usr/share/fonts/truetype/nanum/NanumBarunGothicUltraLight.ttf',\n",
              " '/usr/share/fonts/truetype/liberation/LiberationSansNarrow-BoldItalic.ttf',\n",
              " '/usr/share/fonts/truetype/liberation/LiberationMono-Bold.ttf',\n",
              " '/usr/share/fonts/truetype/nanum/NanumBrush.ttf',\n",
              " '/usr/share/fonts/truetype/nanum/NanumGothicCoding.ttf',\n",
              " '/usr/share/fonts/truetype/nanum/NanumGothic.ttf',\n",
              " '/usr/share/fonts/truetype/nanum/NanumGothicEcoR.ttf',\n",
              " '/usr/share/fonts/truetype/nanum/NanumSquareR.ttf',\n",
              " '/usr/share/fonts/truetype/liberation/LiberationSerif-Bold.ttf',\n",
              " '/usr/share/fonts/truetype/nanum/NanumGothicBold.ttf',\n",
              " '/usr/share/fonts/truetype/nanum/NanumGothicCodingBold.ttf',\n",
              " '/usr/share/fonts/truetype/nanum/NanumBarunpenB.ttf',\n",
              " '/usr/share/fonts/truetype/nanum/NanumMyeongjoEcoR.ttf',\n",
              " '/usr/share/fonts/truetype/nanum/NanumMyeongjoEco.ttf',\n",
              " '/usr/share/fonts/truetype/nanum/NanumSquareB.ttf',\n",
              " '/usr/share/fonts/truetype/nanum/NanumMyeongjo.ttf',\n",
              " '/usr/share/fonts/truetype/liberation/LiberationSerif-Regular.ttf',\n",
              " '/usr/share/fonts/truetype/nanum/NanumSquareRoundR.ttf',\n",
              " '/usr/share/fonts/truetype/nanum/NanumMyeongjo-YetHangul.ttf',\n",
              " '/usr/share/fonts/truetype/liberation/LiberationSans-Italic.ttf',\n",
              " '/usr/share/fonts/truetype/nanum/NanumSquare_acEB.ttf',\n",
              " '/usr/share/fonts/truetype/nanum/NanumSquareRoundEB.ttf',\n",
              " '/usr/share/fonts/truetype/nanum/NanumGothicEcoBold.ttf',\n",
              " '/usr/share/fonts/truetype/liberation/LiberationSansNarrow-Italic.ttf',\n",
              " '/usr/share/fonts/truetype/nanum/NanumMyeongjoEcoBold.ttf',\n",
              " '/usr/share/fonts/truetype/nanum/NanumSquareRoundL.ttf',\n",
              " '/usr/share/fonts/truetype/nanum/NanumBarunGothicBold.ttf',\n",
              " '/usr/share/fonts/truetype/nanum/NanumMyeongjoExtraBold.ttf',\n",
              " '/usr/share/fonts/truetype/nanum/NanumSquareL.ttf',\n",
              " '/usr/share/fonts/truetype/nanum/NanumGothicEcoExtraBold.ttf',\n",
              " '/usr/share/fonts/truetype/humor-sans/Humor-Sans.ttf',\n",
              " '/usr/share/fonts/truetype/nanum/NanumGothicEco.ttf',\n",
              " '/usr/share/fonts/truetype/nanum/NanumBarunpenR.ttf',\n",
              " '/usr/share/fonts/truetype/nanum/NanumMyeongjoEcoExtraBold.ttf',\n",
              " '/usr/share/fonts/truetype/liberation/LiberationMono-Italic.ttf',\n",
              " '/usr/share/fonts/truetype/liberation/LiberationSansNarrow-Bold.ttf',\n",
              " '/usr/share/fonts/truetype/liberation/LiberationMono-BoldItalic.ttf']"
            ]
          },
          "metadata": {},
          "execution_count": 15
        }
      ]
    },
    {
      "cell_type": "code",
      "source": [
        "# 초기설정\n",
        "plt.rcParams['font.size'] = 14\n",
        "plt.rcParams['font.family'] ='NanumGothic'\n",
        "\n",
        "fe = font_manager.FontEntry(fname=r'/usr/share/fonts/truetype/nanum/NanumGothic.ttf', name='NanumGothic') #파일 저장되어있는 경로와 이름 설정\n",
        "font_manager.fontManager.ttflist.insert(0, fe)  # Matplotlib에 폰트 추가\n",
        "plt.rcParams.update({'font.size': 10, 'font.family': 'NanumGothic'}) #폰트설정\n",
        "\n",
        "import warnings\n",
        "warnings.simplefilter('ignore')"
      ],
      "metadata": {
        "id": "D_hdf5QIhsAY"
      },
      "execution_count": 21,
      "outputs": []
    },
    {
      "cell_type": "code",
      "execution_count": 4,
      "metadata": {
        "colab": {
          "base_uri": "https://localhost:8080/"
        },
        "id": "JCD4txiBeMvN",
        "outputId": "b97c3ed3-83bd-44ec-ed88-537c8e8e2932"
      },
      "outputs": [
        {
          "output_type": "stream",
          "name": "stdout",
          "text": [
            "[[166.   58.7]\n",
            " [176.   75.7]\n",
            " [171.   62.1]\n",
            " [173.   70.4]\n",
            " [169.   60.1]]\n"
          ]
        }
      ],
      "source": [
        "# 샘플 데이터 선언\n",
        "sampleData1 = np.array([\n",
        "    [166, 58.7],\n",
        "    [176.0, 75.7],\n",
        "    [171.0, 62.1],\n",
        "    [173.0, 70.4],\n",
        "    [169.0, 60.1],\n",
        "])\n",
        "print(sampleData1)"
      ]
    },
    {
      "cell_type": "code",
      "source": [
        "# 머신러닝 모델에서 사용하기 위해 신장을 x, 체중을 y로\n",
        "x = sampleData1[:,0]\n",
        "y = sampleData1[:,1]"
      ],
      "metadata": {
        "id": "crB8ozkNhIXA"
      },
      "execution_count": 5,
      "outputs": []
    },
    {
      "cell_type": "code",
      "source": [
        "# 산포도 출력 확인\n",
        "plt.scatter(x, y, c='k', s=50)\n",
        "plt.xlabel('$x$: 신장 (cm)')\n",
        "plt.ylabel('$y$: 체중 (kg)')\n",
        "plt.title('신장과 체중의 관계')\n",
        "plt.show()"
      ],
      "metadata": {
        "colab": {
          "base_uri": "https://localhost:8080/",
          "height": 474
        },
        "id": "qu-TiFXkhWxg",
        "outputId": "f30b543b-ba7e-4143-e2e7-4153e233f5fd"
      },
      "execution_count": 22,
      "outputs": [
        {
          "output_type": "display_data",
          "data": {
            "text/plain": [
              "<Figure size 640x480 with 1 Axes>"
            ],
            "image/png": "[encoded data removed]"
          },
          "metadata": {}
        }
      ]
    },
    {
      "cell_type": "code",
      "source": [
        "X = x - x.mean()\n",
        "Y = y - y.mean()\n",
        "\n",
        "plt.scatter(X, Y, c='k', s=50)\n",
        "plt.xlabel('$X$')\n",
        "plt.ylabel('$Y$')\n",
        "plt.title('데이터 가공 후 신장과 체중의 관계')\n",
        "plt.show()"
      ],
      "metadata": {
        "colab": {
          "base_uri": "https://localhost:8080/",
          "height": 470
        },
        "id": "baXF8uJVhmFh",
        "outputId": "9d07afcc-64b5-41f4-ad3a-955501ad6248"
      },
      "execution_count": 23,
      "outputs": [
        {
          "output_type": "display_data",
          "data": {
            "text/plain": [
              "<Figure size 640x480 with 1 Axes>"
            ],
            "image/png": "[encoded data removed]"
          },
          "metadata": {}
        }
      ]
    },
    {
      "cell_type": "code",
      "source": [
        "# X와 Y를 텐서 변수로 변환\n",
        "X = torch.tensor(X).float()\n",
        "Y = torch.tensor(Y).float()\n",
        "\n",
        "print(X)\n",
        "print(Y)"
      ],
      "metadata": {
        "colab": {
          "base_uri": "https://localhost:8080/"
        },
        "id": "r28OswCjlzai",
        "outputId": "5544d150-d85e-4e40-b39a-1961e597a7da"
      },
      "execution_count": 24,
      "outputs": [
        {
          "output_type": "stream",
          "name": "stdout",
          "text": [
            "tensor([-5.,  5.,  0.,  2., -2.])\n",
            "tensor([-6.7000, 10.3000, -3.3000,  5.0000, -5.3000])\n"
          ]
        }
      ]
    },
    {
      "cell_type": "code",
      "source": [
        "# 파라미터 정의\n",
        "# W와 B는 경사 계산을 위해, requires_grad=True로 설정\n",
        "# 초기값 1로 설정\n",
        "W = torch.tensor(1.0, requires_grad=True).float()\n",
        "B = torch.tensor(1.0, requires_grad=True).float()"
      ],
      "metadata": {
        "id": "Dszot0gCl9X9"
      },
      "execution_count": 26,
      "outputs": []
    },
    {
      "cell_type": "code",
      "source": [
        "# 예측 함수\n",
        "def pred(X):\n",
        "  return W * X + B"
      ],
      "metadata": {
        "id": "sEHy3nSomMaq"
      },
      "execution_count": 27,
      "outputs": []
    },
    {
      "cell_type": "code",
      "source": [
        "# 예측 값 계산\n",
        "Yp = pred(X)\n",
        "\n",
        "# 결과 확인\n",
        "print(Yp)"
      ],
      "metadata": {
        "colab": {
          "base_uri": "https://localhost:8080/"
        },
        "id": "3QpLx0dJmhmB",
        "outputId": "de5f76a7-255c-4232-b492-37ff6a428497"
      },
      "execution_count": 29,
      "outputs": [
        {
          "output_type": "stream",
          "name": "stdout",
          "text": [
            "tensor([-4.,  6.,  1.,  3., -1.], grad_fn=<AddBackward0>)\n"
          ]
        }
      ]
    },
    {
      "cell_type": "code",
      "source": [
        "!pip install torchviz"
      ],
      "metadata": {
        "colab": {
          "base_uri": "https://localhost:8080/"
        },
        "id": "J99Ok0d8m5sJ",
        "outputId": "544b4614-ec0f-46c0-fcc9-116686f99a32"
      },
      "execution_count": 30,
      "outputs": [
        {
          "output_type": "stream",
          "name": "stdout",
          "text": [
            "Collecting torchviz\n",
            "  Downloading torchviz-0.0.3-py3-none-any.whl.metadata (2.1 kB)\n",
            "Requirement already satisfied: torch in /usr/local/lib/python3.11/dist-packages (from torchviz) (2.5.1+cu124)\n",
            "Requirement already satisfied: graphviz in /usr/local/lib/python3.11/dist-packages (from torchviz) (0.20.3)\n",
            "Requirement already satisfied: filelock in /usr/local/lib/python3.11/dist-packages (from torch->torchviz) (3.17.0)\n",
            "Requirement already satisfied: typing-extensions>=4.8.0 in /usr/local/lib/python3.11/dist-packages (from torch->torchviz) (4.12.2)\n",
            "Requirement already satisfied: networkx in /usr/local/lib/python3.11/dist-packages (from torch->torchviz) (3.4.2)\n",
            "Requirement already satisfied: jinja2 in /usr/local/lib/python3.11/dist-packages (from torch->torchviz) (3.1.6)\n",
            "Requirement already satisfied: fsspec in /usr/local/lib/python3.11/dist-packages (from torch->torchviz) (2024.10.0)\n",
            "Collecting nvidia-cuda-nvrtc-cu12==12.4.127 (from torch->torchviz)\n",
            "  Downloading nvidia_cuda_nvrtc_cu12-12.4.127-py3-none-manylinux2014_x86_64.whl.metadata (1.5 kB)\n",
            "Collecting nvidia-cuda-runtime-cu12==12.4.127 (from torch->torchviz)\n",
            "  Downloading nvidia_cuda_runtime_cu12-12.4.127-py3-none-manylinux2014_x86_64.whl.metadata (1.5 kB)\n",
            "Collecting nvidia-cuda-cupti-cu12==12.4.127 (from torch->torchviz)\n",
            "  Downloading nvidia_cuda_cupti_cu12-12.4.127-py3-none-manylinux2014_x86_64.whl.metadata (1.6 kB)\n",
            "Collecting nvidia-cudnn-cu12==9.1.0.70 (from torch->torchviz)\n",
            "  Downloading nvidia_cudnn_cu12-9.1.0.70-py3-none-manylinux2014_x86_64.whl.metadata (1.6 kB)\n",
            "Collecting nvidia-cublas-cu12==12.4.5.8 (from torch->torchviz)\n",
            "  Downloading nvidia_cublas_cu12-12.4.5.8-py3-none-manylinux2014_x86_64.whl.metadata (1.5 kB)\n",
            "Collecting nvidia-cufft-cu12==11.2.1.3 (from torch->torchviz)\n",
            "  Downloading nvidia_cufft_cu12-11.2.1.3-py3-none-manylinux2014_x86_64.whl.metadata (1.5 kB)\n",
            "Collecting nvidia-curand-cu12==10.3.5.147 (from torch->torchviz)\n",
            "  Downloading nvidia_curand_cu12-10.3.5.147-py3-none-manylinux2014_x86_64.whl.metadata (1.5 kB)\n",
            "Collecting nvidia-cusolver-cu12==11.6.1.9 (from torch->torchviz)\n",
            "  Downloading nvidia_cusolver_cu12-11.6.1.9-py3-none-manylinux2014_x86_64.whl.metadata (1.6 kB)\n",
            "Collecting nvidia-cusparse-cu12==12.3.1.170 (from torch->torchviz)\n",
            "  Downloading nvidia_cusparse_cu12-12.3.1.170-py3-none-manylinux2014_x86_64.whl.metadata (1.6 kB)\n",
            "Requirement already satisfied: nvidia-nccl-cu12==2.21.5 in /usr/local/lib/python3.11/dist-packages (from torch->torchviz) (2.21.5)\n",
            "Requirement already satisfied: nvidia-nvtx-cu12==12.4.127 in /usr/local/lib/python3.11/dist-packages (from torch->torchviz) (12.4.127)\n",
            "Collecting nvidia-nvjitlink-cu12==12.4.127 (from torch->torchviz)\n",
            "  Downloading nvidia_nvjitlink_cu12-12.4.127-py3-none-manylinux2014_x86_64.whl.metadata (1.5 kB)\n",
            "Requirement already satisfied: triton==3.1.0 in /usr/local/lib/python3.11/dist-packages (from torch->torchviz) (3.1.0)\n",
            "Requirement already satisfied: sympy==1.13.1 in /usr/local/lib/python3.11/dist-packages (from torch->torchviz) (1.13.1)\n",
            "Requirement already satisfied: mpmath<1.4,>=1.1.0 in /usr/local/lib/python3.11/dist-packages (from sympy==1.13.1->torch->torchviz) (1.3.0)\n",
            "Requirement already satisfied: MarkupSafe>=2.0 in /usr/local/lib/python3.11/dist-packages (from jinja2->torch->torchviz) (3.0.2)\n",
            "Downloading torchviz-0.0.3-py3-none-any.whl (5.7 kB)\n",
            "Downloading nvidia_cublas_cu12-12.4.5.8-py3-none-manylinux2014_x86_64.whl (363.4 MB)\n",
            "\u001b[2K   \u001b[90m━━━━━━━━━━━━━━━━━━━━━━━━━━━━━━━━━━━━━━━━\u001b[0m \u001b[32m363.4/363.4 MB\u001b[0m \u001b[31m1.3 MB/s\u001b[0m eta \u001b[36m0:00:00\u001b[0m\n",
            "\u001b[?25hDownloading nvidia_cuda_cupti_cu12-12.4.127-py3-none-manylinux2014_x86_64.whl (13.8 MB)\n",
            "\u001b[2K   \u001b[90m━━━━━━━━━━━━━━━━━━━━━━━━━━━━━━━━━━━━━━━━\u001b[0m \u001b[32m13.8/13.8 MB\u001b[0m \u001b[31m84.7 MB/s\u001b[0m eta \u001b[36m0:00:00\u001b[0m\n",
            "\u001b[?25hDownloading nvidia_cuda_nvrtc_cu12-12.4.127-py3-none-manylinux2014_x86_64.whl (24.6 MB)\n",
            "\u001b[2K   \u001b[90m━━━━━━━━━━━━━━━━━━━━━━━━━━━━━━━━━━━━━━━━\u001b[0m \u001b[32m24.6/24.6 MB\u001b[0m \u001b[31m66.3 MB/s\u001b[0m eta \u001b[36m0:00:00\u001b[0m\n",
            "\u001b[?25hDownloading nvidia_cuda_runtime_cu12-12.4.127-py3-none-manylinux2014_x86_64.whl (883 kB)\n",
            "\u001b[2K   \u001b[90m━━━━━━━━━━━━━━━━━━━━━━━━━━━━━━━━━━━━━━━━\u001b[0m \u001b[32m883.7/883.7 kB\u001b[0m \u001b[31m40.7 MB/s\u001b[0m eta \u001b[36m0:00:00\u001b[0m\n",
            "\u001b[?25hDownloading nvidia_cudnn_cu12-9.1.0.70-py3-none-manylinux2014_x86_64.whl (664.8 MB)\n",
            "\u001b[2K   \u001b[90m━━━━━━━━━━━━━━━━━━━━━━━━━━━━━━━━━━━━━━━━\u001b[0m \u001b[32m664.8/664.8 MB\u001b[0m \u001b[31m3.1 MB/s\u001b[0m eta \u001b[36m0:00:00\u001b[0m\n",
            "\u001b[?25hDownloading nvidia_cufft_cu12-11.2.1.3-py3-none-manylinux2014_x86_64.whl (211.5 MB)\n",
            "\u001b[2K   \u001b[90m━━━━━━━━━━━━━━━━━━━━━━━━━━━━━━━━━━━━━━━━\u001b[0m \u001b[32m211.5/211.5 MB\u001b[0m \u001b[31m6.0 MB/s\u001b[0m eta \u001b[36m0:00:00\u001b[0m\n",
            "\u001b[?25hDownloading nvidia_curand_cu12-10.3.5.147-py3-none-manylinux2014_x86_64.whl (56.3 MB)\n",
            "\u001b[2K   \u001b[90m━━━━━━━━━━━━━━━━━━━━━━━━━━━━━━━━━━━━━━━━\u001b[0m \u001b[32m56.3/56.3 MB\u001b[0m \u001b[31m10.9 MB/s\u001b[0m eta \u001b[36m0:00:00\u001b[0m\n",
            "\u001b[?25hDownloading nvidia_cusolver_cu12-11.6.1.9-py3-none-manylinux2014_x86_64.whl (127.9 MB)\n",
            "\u001b[2K   \u001b[90m━━━━━━━━━━━━━━━━━━━━━━━━━━━━━━━━━━━━━━━━\u001b[0m \u001b[32m127.9/127.9 MB\u001b[0m \u001b[31m7.9 MB/s\u001b[0m eta \u001b[36m0:00:00\u001b[0m\n",
            "\u001b[?25hDownloading nvidia_cusparse_cu12-12.3.1.170-py3-none-manylinux2014_x86_64.whl (207.5 MB)\n",
            "\u001b[2K   \u001b[90m━━━━━━━━━━━━━━━━━━━━━━━━━━━━━━━━━━━━━━━━\u001b[0m \u001b[32m207.5/207.5 MB\u001b[0m \u001b[31m6.0 MB/s\u001b[0m eta \u001b[36m0:00:00\u001b[0m\n",
            "\u001b[?25hDownloading nvidia_nvjitlink_cu12-12.4.127-py3-none-manylinux2014_x86_64.whl (21.1 MB)\n",
            "\u001b[2K   \u001b[90m━━━━━━━━━━━━━━━━━━━━━━━━━━━━━━━━━━━━━━━━\u001b[0m \u001b[32m21.1/21.1 MB\u001b[0m \u001b[31m69.9 MB/s\u001b[0m eta \u001b[36m0:00:00\u001b[0m\n",
            "\u001b[?25hInstalling collected packages: nvidia-nvjitlink-cu12, nvidia-curand-cu12, nvidia-cufft-cu12, nvidia-cuda-runtime-cu12, nvidia-cuda-nvrtc-cu12, nvidia-cuda-cupti-cu12, nvidia-cublas-cu12, nvidia-cusparse-cu12, nvidia-cudnn-cu12, nvidia-cusolver-cu12, torchviz\n",
            "  Attempting uninstall: nvidia-nvjitlink-cu12\n",
            "    Found existing installation: nvidia-nvjitlink-cu12 12.5.82\n",
            "    Uninstalling nvidia-nvjitlink-cu12-12.5.82:\n",
            "      Successfully uninstalled nvidia-nvjitlink-cu12-12.5.82\n",
            "  Attempting uninstall: nvidia-curand-cu12\n",
            "    Found existing installation: nvidia-curand-cu12 10.3.6.82\n",
            "    Uninstalling nvidia-curand-cu12-10.3.6.82:\n",
            "      Successfully uninstalled nvidia-curand-cu12-10.3.6.82\n",
            "  Attempting uninstall: nvidia-cufft-cu12\n",
            "    Found existing installation: nvidia-cufft-cu12 11.2.3.61\n",
            "    Uninstalling nvidia-cufft-cu12-11.2.3.61:\n",
            "      Successfully uninstalled nvidia-cufft-cu12-11.2.3.61\n",
            "  Attempting uninstall: nvidia-cuda-runtime-cu12\n",
            "    Found existing installation: nvidia-cuda-runtime-cu12 12.5.82\n",
            "    Uninstalling nvidia-cuda-runtime-cu12-12.5.82:\n",
            "      Successfully uninstalled nvidia-cuda-runtime-cu12-12.5.82\n",
            "  Attempting uninstall: nvidia-cuda-nvrtc-cu12\n",
            "    Found existing installation: nvidia-cuda-nvrtc-cu12 12.5.82\n",
            "    Uninstalling nvidia-cuda-nvrtc-cu12-12.5.82:\n",
            "      Successfully uninstalled nvidia-cuda-nvrtc-cu12-12.5.82\n",
            "  Attempting uninstall: nvidia-cuda-cupti-cu12\n",
            "    Found existing installation: nvidia-cuda-cupti-cu12 12.5.82\n",
            "    Uninstalling nvidia-cuda-cupti-cu12-12.5.82:\n",
            "      Successfully uninstalled nvidia-cuda-cupti-cu12-12.5.82\n",
            "  Attempting uninstall: nvidia-cublas-cu12\n",
            "    Found existing installation: nvidia-cublas-cu12 12.5.3.2\n",
            "    Uninstalling nvidia-cublas-cu12-12.5.3.2:\n",
            "      Successfully uninstalled nvidia-cublas-cu12-12.5.3.2\n",
            "  Attempting uninstall: nvidia-cusparse-cu12\n",
            "    Found existing installation: nvidia-cusparse-cu12 12.5.1.3\n",
            "    Uninstalling nvidia-cusparse-cu12-12.5.1.3:\n",
            "      Successfully uninstalled nvidia-cusparse-cu12-12.5.1.3\n",
            "  Attempting uninstall: nvidia-cudnn-cu12\n",
            "    Found existing installation: nvidia-cudnn-cu12 9.3.0.75\n",
            "    Uninstalling nvidia-cudnn-cu12-9.3.0.75:\n",
            "      Successfully uninstalled nvidia-cudnn-cu12-9.3.0.75\n",
            "  Attempting uninstall: nvidia-cusolver-cu12\n",
            "    Found existing installation: nvidia-cusolver-cu12 11.6.3.83\n",
            "    Uninstalling nvidia-cusolver-cu12-11.6.3.83:\n",
            "      Successfully uninstalled nvidia-cusolver-cu12-11.6.3.83\n",
            "Successfully installed nvidia-cublas-cu12-12.4.5.8 nvidia-cuda-cupti-cu12-12.4.127 nvidia-cuda-nvrtc-cu12-12.4.127 nvidia-cuda-runtime-cu12-12.4.127 nvidia-cudnn-cu12-9.1.0.70 nvidia-cufft-cu12-11.2.1.3 nvidia-curand-cu12-10.3.5.147 nvidia-cusolver-cu12-11.6.1.9 nvidia-cusparse-cu12-12.3.1.170 nvidia-nvjitlink-cu12-12.4.127 torchviz-0.0.3\n"
          ]
        }
      ]
    },
    {
      "cell_type": "code",
      "source": [
        "from torchviz import make_dot\n",
        "\n",
        "# 예측 값의 계산 그래프 표시\n",
        "params = {'W': W, 'B': B}\n",
        "\n",
        "g = make_dot(Yp, params=params)\n",
        "display(g)"
      ],
      "metadata": {
        "colab": {
          "base_uri": "https://localhost:8080/",
          "height": 395
        },
        "id": "0Jw8UYEWmkLG",
        "outputId": "e37ac2ca-e6db-42d9-d43d-9ebc868f330f"
      },
      "execution_count": 32,
      "outputs": [
        {
          "output_type": "display_data",
          "data": {
            "image/svg+xml": "<?xml version=\"1.0\" encoding=\"UTF-8\" standalone=\"no\"?>\n<!DOCTYPE svg PUBLIC \"-//W3C//DTD SVG 1.1//EN\"\n \"http://www.w3.org/Graphics/SVG/1.1/DTD/svg11.dtd\">\n<!-- Generated by graphviz version 2.43.0 (0)\n -->\n<!-- Title: %3 Pages: 1 -->\n<svg width=\"222pt\" height=\"281pt\"\n viewBox=\"0.00 0.00 222.00 281.00\" xmlns=\"http://www.w3.org/2000/svg\" xmlns:xlink=\"http://www.w3.org/1999/xlink\">\n<g id=\"graph0\" class=\"graph\" transform=\"scale(1 1) rotate(0) translate(4 277)\">\n<title>%3</title>\n<polygon fill=\"white\" stroke=\"transparent\" points=\"-4,4 -4,-277 218,-277 218,4 -4,4\"/>\n<!-- 139228443398256 -->\n<g id=\"node1\" class=\"node\">\n<title>139228443398256</title>\n<polygon fill=\"#caff70\" stroke=\"black\" points=\"133.5,-31 79.5,-31 79.5,0 133.5,0 133.5,-31\"/>\n<text text-anchor=\"middle\" x=\"106.5\" y=\"-7\" font-family=\"monospace\" font-size=\"10.00\"> (5)</text>\n</g>\n<!-- 139228487430400 -->\n<g id=\"node2\" class=\"node\">\n<title>139228487430400</title>\n<polygon fill=\"lightgrey\" stroke=\"black\" points=\"151,-86 62,-86 62,-67 151,-67 151,-86\"/>\n<text text-anchor=\"middle\" x=\"106.5\" y=\"-74\" font-family=\"monospace\" font-size=\"10.00\">AddBackward0</text>\n</g>\n<!-- 139228487430400&#45;&gt;139228443398256 -->\n<g id=\"edge6\" class=\"edge\">\n<title>139228487430400&#45;&gt;139228443398256</title>\n<path fill=\"none\" stroke=\"black\" d=\"M106.5,-66.79C106.5,-60.07 106.5,-50.4 106.5,-41.34\"/>\n<polygon fill=\"black\" stroke=\"black\" points=\"110,-41.19 106.5,-31.19 103,-41.19 110,-41.19\"/>\n</g>\n<!-- 139228487429728 -->\n<g id=\"node3\" class=\"node\">\n<title>139228487429728</title>\n<polygon fill=\"lightgrey\" stroke=\"black\" points=\"95,-141 6,-141 6,-122 95,-122 95,-141\"/>\n<text text-anchor=\"middle\" x=\"50.5\" y=\"-129\" font-family=\"monospace\" font-size=\"10.00\">MulBackward0</text>\n</g>\n<!-- 139228487429728&#45;&gt;139228487430400 -->\n<g id=\"edge1\" class=\"edge\">\n<title>139228487429728&#45;&gt;139228487430400</title>\n<path fill=\"none\" stroke=\"black\" d=\"M59.5,-121.98C67.69,-114.23 80.01,-102.58 89.97,-93.14\"/>\n<polygon fill=\"black\" stroke=\"black\" points=\"92.48,-95.59 97.34,-86.17 87.67,-90.5 92.48,-95.59\"/>\n</g>\n<!-- 139228487427856 -->\n<g id=\"node4\" class=\"node\">\n<title>139228487427856</title>\n<polygon fill=\"lightgrey\" stroke=\"black\" points=\"101,-201.5 0,-201.5 0,-182.5 101,-182.5 101,-201.5\"/>\n<text text-anchor=\"middle\" x=\"50.5\" y=\"-189.5\" font-family=\"monospace\" font-size=\"10.00\">AccumulateGrad</text>\n</g>\n<!-- 139228487427856&#45;&gt;139228487429728 -->\n<g id=\"edge2\" class=\"edge\">\n<title>139228487427856&#45;&gt;139228487429728</title>\n<path fill=\"none\" stroke=\"black\" d=\"M50.5,-182.37C50.5,-174.25 50.5,-161.81 50.5,-151.39\"/>\n<polygon fill=\"black\" stroke=\"black\" points=\"54,-151.17 50.5,-141.17 47,-151.17 54,-151.17\"/>\n</g>\n<!-- 139228486229680 -->\n<g id=\"node5\" class=\"node\">\n<title>139228486229680</title>\n<polygon fill=\"lightblue\" stroke=\"black\" points=\"77.5,-273 23.5,-273 23.5,-243 77.5,-243 77.5,-273\"/>\n<text text-anchor=\"middle\" x=\"50.5\" y=\"-261\" font-family=\"monospace\" font-size=\"10.00\">W</text>\n<text text-anchor=\"middle\" x=\"50.5\" y=\"-250\" font-family=\"monospace\" font-size=\"10.00\"> ()</text>\n</g>\n<!-- 139228486229680&#45;&gt;139228487427856 -->\n<g id=\"edge3\" class=\"edge\">\n<title>139228486229680&#45;&gt;139228487427856</title>\n<path fill=\"none\" stroke=\"black\" d=\"M50.5,-242.8C50.5,-233.7 50.5,-221.79 50.5,-211.9\"/>\n<polygon fill=\"black\" stroke=\"black\" points=\"54,-211.84 50.5,-201.84 47,-211.84 54,-211.84\"/>\n</g>\n<!-- 139228487431744 -->\n<g id=\"node6\" class=\"node\">\n<title>139228487431744</title>\n<polygon fill=\"lightgrey\" stroke=\"black\" points=\"214,-141 113,-141 113,-122 214,-122 214,-141\"/>\n<text text-anchor=\"middle\" x=\"163.5\" y=\"-129\" font-family=\"monospace\" font-size=\"10.00\">AccumulateGrad</text>\n</g>\n<!-- 139228487431744&#45;&gt;139228487430400 -->\n<g id=\"edge4\" class=\"edge\">\n<title>139228487431744&#45;&gt;139228487430400</title>\n<path fill=\"none\" stroke=\"black\" d=\"M154.34,-121.98C146,-114.23 133.47,-102.58 123.32,-93.14\"/>\n<polygon fill=\"black\" stroke=\"black\" points=\"125.53,-90.42 115.82,-86.17 120.76,-95.54 125.53,-90.42\"/>\n</g>\n<!-- 139228443788784 -->\n<g id=\"node7\" class=\"node\">\n<title>139228443788784</title>\n<polygon fill=\"lightblue\" stroke=\"black\" points=\"190.5,-207 136.5,-207 136.5,-177 190.5,-177 190.5,-207\"/>\n<text text-anchor=\"middle\" x=\"163.5\" y=\"-195\" font-family=\"monospace\" font-size=\"10.00\">B</text>\n<text text-anchor=\"middle\" x=\"163.5\" y=\"-184\" font-family=\"monospace\" font-size=\"10.00\"> ()</text>\n</g>\n<!-- 139228443788784&#45;&gt;139228487431744 -->\n<g id=\"edge5\" class=\"edge\">\n<title>139228443788784&#45;&gt;139228487431744</title>\n<path fill=\"none\" stroke=\"black\" d=\"M163.5,-176.84C163.5,-169.21 163.5,-159.7 163.5,-151.45\"/>\n<polygon fill=\"black\" stroke=\"black\" points=\"167,-151.27 163.5,-141.27 160,-151.27 167,-151.27\"/>\n</g>\n</g>\n</svg>\n",
            "text/plain": [
              "<graphviz.graphs.Digraph at 0x7ea0a5f09190>"
            ]
          },
          "metadata": {}
        }
      ]
    },
    {
      "cell_type": "code",
      "source": [
        "# 평균 제곱 오차 손실 함수(mse) 정의\n",
        "\n",
        "def mse(Yp, Y):\n",
        "  loss = ((Yp - Y) ** 2).mean()\n",
        "  return loss"
      ],
      "metadata": {
        "id": "LMZ7ZdkYnJbw"
      },
      "execution_count": 33,
      "outputs": []
    },
    {
      "cell_type": "code",
      "source": [
        "# 손실 계산\n",
        "loss = mse(Yp, Y)\n",
        "\n",
        "print(loss)"
      ],
      "metadata": {
        "colab": {
          "base_uri": "https://localhost:8080/"
        },
        "id": "Kn67vYcAnSFn",
        "outputId": "44d796df-be2e-4e24-bd56-38252af50916"
      },
      "execution_count": 34,
      "outputs": [
        {
          "output_type": "stream",
          "name": "stdout",
          "text": [
            "tensor(13.3520, grad_fn=<MeanBackward0>)\n"
          ]
        }
      ]
    },
    {
      "cell_type": "code",
      "source": [
        "# 손실 계산 그래프 출력\n",
        "# 손실은 예측함수와 손실함수의 합성함수. 예측 함수의 이동을 결정 짓는 파라미터(W, B)의 함수\n",
        "params = {'W': W, 'B': B}\n",
        "g = make_dot(loss, params=params)\n",
        "display(g)"
      ],
      "metadata": {
        "colab": {
          "base_uri": "https://localhost:8080/",
          "height": 615
        },
        "id": "kXfF83vmngGC",
        "outputId": "bb3cce66-3b4f-48b1-9644-030c76f57886"
      },
      "execution_count": 36,
      "outputs": [
        {
          "output_type": "display_data",
          "data": {
            "image/svg+xml": "<?xml version=\"1.0\" encoding=\"UTF-8\" standalone=\"no\"?>\n<!DOCTYPE svg PUBLIC \"-//W3C//DTD SVG 1.1//EN\"\n \"http://www.w3.org/Graphics/SVG/1.1/DTD/svg11.dtd\">\n<!-- Generated by graphviz version 2.43.0 (0)\n -->\n<!-- Title: %3 Pages: 1 -->\n<svg width=\"222pt\" height=\"446pt\"\n viewBox=\"0.00 0.00 222.00 446.00\" xmlns=\"http://www.w3.org/2000/svg\" xmlns:xlink=\"http://www.w3.org/1999/xlink\">\n<g id=\"graph0\" class=\"graph\" transform=\"scale(1 1) rotate(0) translate(4 442)\">\n<title>%3</title>\n<polygon fill=\"white\" stroke=\"transparent\" points=\"-4,4 -4,-442 218,-442 218,4 -4,4\"/>\n<!-- 139228443396816 -->\n<g id=\"node1\" class=\"node\">\n<title>139228443396816</title>\n<polygon fill=\"#caff70\" stroke=\"black\" points=\"133.5,-31 79.5,-31 79.5,0 133.5,0 133.5,-31\"/>\n<text text-anchor=\"middle\" x=\"106.5\" y=\"-7\" font-family=\"monospace\" font-size=\"10.00\"> ()</text>\n</g>\n<!-- 139228447566496 -->\n<g id=\"node2\" class=\"node\">\n<title>139228447566496</title>\n<polygon fill=\"lightgrey\" stroke=\"black\" points=\"154,-86 59,-86 59,-67 154,-67 154,-86\"/>\n<text text-anchor=\"middle\" x=\"106.5\" y=\"-74\" font-family=\"monospace\" font-size=\"10.00\">MeanBackward0</text>\n</g>\n<!-- 139228447566496&#45;&gt;139228443396816 -->\n<g id=\"edge9\" class=\"edge\">\n<title>139228447566496&#45;&gt;139228443396816</title>\n<path fill=\"none\" stroke=\"black\" d=\"M106.5,-66.79C106.5,-60.07 106.5,-50.4 106.5,-41.34\"/>\n<polygon fill=\"black\" stroke=\"black\" points=\"110,-41.19 106.5,-31.19 103,-41.19 110,-41.19\"/>\n</g>\n<!-- 139228447569328 -->\n<g id=\"node3\" class=\"node\">\n<title>139228447569328</title>\n<polygon fill=\"lightgrey\" stroke=\"black\" points=\"151,-141 62,-141 62,-122 151,-122 151,-141\"/>\n<text text-anchor=\"middle\" x=\"106.5\" y=\"-129\" font-family=\"monospace\" font-size=\"10.00\">PowBackward0</text>\n</g>\n<!-- 139228447569328&#45;&gt;139228447566496 -->\n<g id=\"edge1\" class=\"edge\">\n<title>139228447569328&#45;&gt;139228447566496</title>\n<path fill=\"none\" stroke=\"black\" d=\"M106.5,-121.75C106.5,-114.8 106.5,-104.85 106.5,-96.13\"/>\n<polygon fill=\"black\" stroke=\"black\" points=\"110,-96.09 106.5,-86.09 103,-96.09 110,-96.09\"/>\n</g>\n<!-- 139228447569424 -->\n<g id=\"node4\" class=\"node\">\n<title>139228447569424</title>\n<polygon fill=\"lightgrey\" stroke=\"black\" points=\"151,-196 62,-196 62,-177 151,-177 151,-196\"/>\n<text text-anchor=\"middle\" x=\"106.5\" y=\"-184\" font-family=\"monospace\" font-size=\"10.00\">SubBackward0</text>\n</g>\n<!-- 139228447569424&#45;&gt;139228447569328 -->\n<g id=\"edge2\" class=\"edge\">\n<title>139228447569424&#45;&gt;139228447569328</title>\n<path fill=\"none\" stroke=\"black\" d=\"M106.5,-176.75C106.5,-169.8 106.5,-159.85 106.5,-151.13\"/>\n<polygon fill=\"black\" stroke=\"black\" points=\"110,-151.09 106.5,-141.09 103,-151.09 110,-151.09\"/>\n</g>\n<!-- 139228487430400 -->\n<g id=\"node5\" class=\"node\">\n<title>139228487430400</title>\n<polygon fill=\"lightgrey\" stroke=\"black\" points=\"151,-251 62,-251 62,-232 151,-232 151,-251\"/>\n<text text-anchor=\"middle\" x=\"106.5\" y=\"-239\" font-family=\"monospace\" font-size=\"10.00\">AddBackward0</text>\n</g>\n<!-- 139228487430400&#45;&gt;139228447569424 -->\n<g id=\"edge3\" class=\"edge\">\n<title>139228487430400&#45;&gt;139228447569424</title>\n<path fill=\"none\" stroke=\"black\" d=\"M106.5,-231.75C106.5,-224.8 106.5,-214.85 106.5,-206.13\"/>\n<polygon fill=\"black\" stroke=\"black\" points=\"110,-206.09 106.5,-196.09 103,-206.09 110,-206.09\"/>\n</g>\n<!-- 139228487429728 -->\n<g id=\"node6\" class=\"node\">\n<title>139228487429728</title>\n<polygon fill=\"lightgrey\" stroke=\"black\" points=\"95,-306 6,-306 6,-287 95,-287 95,-306\"/>\n<text text-anchor=\"middle\" x=\"50.5\" y=\"-294\" font-family=\"monospace\" font-size=\"10.00\">MulBackward0</text>\n</g>\n<!-- 139228487429728&#45;&gt;139228487430400 -->\n<g id=\"edge4\" class=\"edge\">\n<title>139228487429728&#45;&gt;139228487430400</title>\n<path fill=\"none\" stroke=\"black\" d=\"M59.5,-286.98C67.69,-279.23 80.01,-267.58 89.97,-258.14\"/>\n<polygon fill=\"black\" stroke=\"black\" points=\"92.48,-260.59 97.34,-251.17 87.67,-255.5 92.48,-260.59\"/>\n</g>\n<!-- 139228487427856 -->\n<g id=\"node7\" class=\"node\">\n<title>139228487427856</title>\n<polygon fill=\"lightgrey\" stroke=\"black\" points=\"101,-366.5 0,-366.5 0,-347.5 101,-347.5 101,-366.5\"/>\n<text text-anchor=\"middle\" x=\"50.5\" y=\"-354.5\" font-family=\"monospace\" font-size=\"10.00\">AccumulateGrad</text>\n</g>\n<!-- 139228487427856&#45;&gt;139228487429728 -->\n<g id=\"edge5\" class=\"edge\">\n<title>139228487427856&#45;&gt;139228487429728</title>\n<path fill=\"none\" stroke=\"black\" d=\"M50.5,-347.37C50.5,-339.25 50.5,-326.81 50.5,-316.39\"/>\n<polygon fill=\"black\" stroke=\"black\" points=\"54,-316.17 50.5,-306.17 47,-316.17 54,-316.17\"/>\n</g>\n<!-- 139228486229680 -->\n<g id=\"node8\" class=\"node\">\n<title>139228486229680</title>\n<polygon fill=\"lightblue\" stroke=\"black\" points=\"77.5,-438 23.5,-438 23.5,-408 77.5,-408 77.5,-438\"/>\n<text text-anchor=\"middle\" x=\"50.5\" y=\"-426\" font-family=\"monospace\" font-size=\"10.00\">W</text>\n<text text-anchor=\"middle\" x=\"50.5\" y=\"-415\" font-family=\"monospace\" font-size=\"10.00\"> ()</text>\n</g>\n<!-- 139228486229680&#45;&gt;139228487427856 -->\n<g id=\"edge6\" class=\"edge\">\n<title>139228486229680&#45;&gt;139228487427856</title>\n<path fill=\"none\" stroke=\"black\" d=\"M50.5,-407.8C50.5,-398.7 50.5,-386.79 50.5,-376.9\"/>\n<polygon fill=\"black\" stroke=\"black\" points=\"54,-376.84 50.5,-366.84 47,-376.84 54,-376.84\"/>\n</g>\n<!-- 139228487431744 -->\n<g id=\"node9\" class=\"node\">\n<title>139228487431744</title>\n<polygon fill=\"lightgrey\" stroke=\"black\" points=\"214,-306 113,-306 113,-287 214,-287 214,-306\"/>\n<text text-anchor=\"middle\" x=\"163.5\" y=\"-294\" font-family=\"monospace\" font-size=\"10.00\">AccumulateGrad</text>\n</g>\n<!-- 139228487431744&#45;&gt;139228487430400 -->\n<g id=\"edge7\" class=\"edge\">\n<title>139228487431744&#45;&gt;139228487430400</title>\n<path fill=\"none\" stroke=\"black\" d=\"M154.34,-286.98C146,-279.23 133.47,-267.58 123.32,-258.14\"/>\n<polygon fill=\"black\" stroke=\"black\" points=\"125.53,-255.42 115.82,-251.17 120.76,-260.54 125.53,-255.42\"/>\n</g>\n<!-- 139228443788784 -->\n<g id=\"node10\" class=\"node\">\n<title>139228443788784</title>\n<polygon fill=\"lightblue\" stroke=\"black\" points=\"190.5,-372 136.5,-372 136.5,-342 190.5,-342 190.5,-372\"/>\n<text text-anchor=\"middle\" x=\"163.5\" y=\"-360\" font-family=\"monospace\" font-size=\"10.00\">B</text>\n<text text-anchor=\"middle\" x=\"163.5\" y=\"-349\" font-family=\"monospace\" font-size=\"10.00\"> ()</text>\n</g>\n<!-- 139228443788784&#45;&gt;139228487431744 -->\n<g id=\"edge8\" class=\"edge\">\n<title>139228443788784&#45;&gt;139228487431744</title>\n<path fill=\"none\" stroke=\"black\" d=\"M163.5,-341.84C163.5,-334.21 163.5,-324.7 163.5,-316.45\"/>\n<polygon fill=\"black\" stroke=\"black\" points=\"167,-316.27 163.5,-306.27 160,-316.27 167,-316.27\"/>\n</g>\n</g>\n</svg>\n",
            "text/plain": [
              "<graphviz.graphs.Digraph at 0x7ea0a5f16590>"
            ]
          },
          "metadata": {}
        }
      ]
    },
    {
      "cell_type": "code",
      "source": [
        "# 경사 계산\n",
        "loss.backward()"
      ],
      "metadata": {
        "id": "A9l3KNa4noDz"
      },
      "execution_count": 37,
      "outputs": []
    },
    {
      "cell_type": "code",
      "source": [
        "# 경삿값 확인\n",
        "print(W.grad)\n",
        "print(B.grad)"
      ],
      "metadata": {
        "colab": {
          "base_uri": "https://localhost:8080/"
        },
        "id": "MWCGQUipoROe",
        "outputId": "638e27af-9418-4267-b7a8-2e59acee0bf5"
      },
      "execution_count": 38,
      "outputs": [
        {
          "output_type": "stream",
          "name": "stdout",
          "text": [
            "tensor(-19.0400)\n",
            "tensor(2.0000)\n"
          ]
        }
      ]
    },
    {
      "cell_type": "code",
      "source": [
        "# 학습률 lr을 곱한 결과를 원래의 파라미터 값에서 빼는 것이 경사 하강법의 기본\n",
        "lr = 0.001\n",
        "\n",
        "# 경사를 기반으로 파라미터 수정\n",
        "with torch.no_grad(): # 계산 그래프 생성 기능을 막아 W,B 수정이 가능하게\n",
        "  W -= lr * W.grad\n",
        "  B -= lr * B.grad\n",
        "\n",
        "  # 계산이 끝난 경사값을 초기화\n",
        "  W.grad.zero_()\n",
        "  B.grad.zero_()"
      ],
      "metadata": {
        "id": "yYirctSUoT_C"
      },
      "execution_count": 44,
      "outputs": []
    },
    {
      "cell_type": "code",
      "source": [
        "# 파라미터와 경삿값 확인\n",
        "print(W)\n",
        "print(B)\n",
        "print(W.grad)\n",
        "print(B.grad)"
      ],
      "metadata": {
        "colab": {
          "base_uri": "https://localhost:8080/"
        },
        "id": "ZgQbEDW-onFy",
        "outputId": "01ce387b-84f0-4f93-fe4e-c9f5e00816cb"
      },
      "execution_count": 45,
      "outputs": [
        {
          "output_type": "stream",
          "name": "stdout",
          "text": [
            "tensor(1.0571, requires_grad=True)\n",
            "tensor(0.9940, requires_grad=True)\n",
            "tensor(0.)\n",
            "tensor(0.)\n"
          ]
        }
      ]
    },
    {
      "cell_type": "markdown",
      "source": [
        "# 반복계산"
      ],
      "metadata": {
        "id": "kiNaJxOpp0cR"
      }
    },
    {
      "cell_type": "code",
      "source": [
        "############# 초기화\n",
        "# W와 B를 변수로 사용\n",
        "W = torch.tensor(1.0, requires_grad=True).float()\n",
        "B = torch.tensor(1.0, requires_grad=True).float()\n",
        "\n",
        "# 반복 횟수\n",
        "num_epochs = 500\n",
        "\n",
        "# 학습률\n",
        "lr = 0.001\n",
        "\n",
        "# history 기록을 위한 배열 초기화\n",
        "history = np.zeros((0, 2))"
      ],
      "metadata": {
        "id": "s186U9I6pq-l"
      },
      "execution_count": 46,
      "outputs": []
    },
    {
      "cell_type": "code",
      "source": [
        "############# 루프 처리\n",
        "for epoch in range(num_epochs):\n",
        "  # 예측 계산\n",
        "  Yp = pred(X)\n",
        "\n",
        "  # 손실 계산\n",
        "  loss = mse(Yp, Y)\n",
        "\n",
        "  # 경사 계산\n",
        "  loss.backward()\n",
        "\n",
        "  with torch.no_grad():\n",
        "    # 파라미터 수정\n",
        "    W -= lr * W.grad\n",
        "    B -= lr * B.grad\n",
        "\n",
        "    # 경삿값 초기화\n",
        "    W.grad.zero_()\n",
        "    B.grad.zero_()\n",
        "\n",
        "  # 손실 기록\n",
        "  if (epoch % 10 == 0):\n",
        "    item = np.array([epoch, loss.item()])\n",
        "    history = np.vstack((history, item))\n",
        "    print(f'epoch = {epoch} loss = {loss:.4f}')"
      ],
      "metadata": {
        "colab": {
          "base_uri": "https://localhost:8080/"
        },
        "id": "Hbo0FQlip1dj",
        "outputId": "213689ba-c92e-40d8-f17a-ea87cd4c26b9"
      },
      "execution_count": 49,
      "outputs": [
        {
          "output_type": "stream",
          "name": "stdout",
          "text": [
            "epoch = 0 loss = 13.3520\n",
            "epoch = 10 loss = 10.3855\n",
            "epoch = 20 loss = 8.5173\n",
            "epoch = 30 loss = 7.3364\n",
            "epoch = 40 loss = 6.5858\n",
            "epoch = 50 loss = 6.1047\n",
            "epoch = 60 loss = 5.7927\n",
            "epoch = 70 loss = 5.5868\n",
            "epoch = 80 loss = 5.4476\n",
            "epoch = 90 loss = 5.3507\n",
            "epoch = 100 loss = 5.2805\n",
            "epoch = 110 loss = 5.2275\n",
            "epoch = 120 loss = 5.1855\n",
            "epoch = 130 loss = 5.1507\n",
            "epoch = 140 loss = 5.1208\n",
            "epoch = 150 loss = 5.0943\n",
            "epoch = 160 loss = 5.0703\n",
            "epoch = 170 loss = 5.0480\n",
            "epoch = 180 loss = 5.0271\n",
            "epoch = 190 loss = 5.0074\n",
            "epoch = 200 loss = 4.9887\n",
            "epoch = 210 loss = 4.9708\n",
            "epoch = 220 loss = 4.9537\n",
            "epoch = 230 loss = 4.9373\n",
            "epoch = 240 loss = 4.9217\n",
            "epoch = 250 loss = 4.9066\n",
            "epoch = 260 loss = 4.8922\n",
            "epoch = 270 loss = 4.8783\n",
            "epoch = 280 loss = 4.8650\n",
            "epoch = 290 loss = 4.8522\n",
            "epoch = 300 loss = 4.8399\n",
            "epoch = 310 loss = 4.8281\n",
            "epoch = 320 loss = 4.8167\n",
            "epoch = 330 loss = 4.8058\n",
            "epoch = 340 loss = 4.7953\n",
            "epoch = 350 loss = 4.7853\n",
            "epoch = 360 loss = 4.7756\n",
            "epoch = 370 loss = 4.7663\n",
            "epoch = 380 loss = 4.7574\n",
            "epoch = 390 loss = 4.7488\n",
            "epoch = 400 loss = 4.7406\n",
            "epoch = 410 loss = 4.7327\n",
            "epoch = 420 loss = 4.7251\n",
            "epoch = 430 loss = 4.7178\n",
            "epoch = 440 loss = 4.7108\n",
            "epoch = 450 loss = 4.7040\n",
            "epoch = 460 loss = 4.6976\n",
            "epoch = 470 loss = 4.6913\n",
            "epoch = 480 loss = 4.6854\n",
            "epoch = 490 loss = 4.6796\n"
          ]
        }
      ]
    },
    {
      "cell_type": "code",
      "source": [
        "print(history)"
      ],
      "metadata": {
        "colab": {
          "base_uri": "https://localhost:8080/"
        },
        "id": "xOQu3VHbruBQ",
        "outputId": "abf79084-a994-452f-90ae-6cbc7c7c43aa"
      },
      "execution_count": 51,
      "outputs": [
        {
          "output_type": "stream",
          "name": "stdout",
          "text": [
            "[[  0.          13.35200214]\n",
            " [ 10.          10.38550854]\n",
            " [ 20.           8.51729107]\n",
            " [ 30.           7.33638239]\n",
            " [ 40.           6.58576679]\n",
            " [ 50.           6.10470676]\n",
            " [ 60.           5.79266453]\n",
            " [ 70.           5.58675766]\n",
            " [ 80.           5.44764376]\n",
            " [ 90.           5.35070324]\n",
            " [100.           5.28052711]\n",
            " [110.           5.22746277]\n",
            " [120.           5.18545818]\n",
            " [130.           5.1507163 ]\n",
            " [140.           5.12084818]\n",
            " [150.           5.09434891]\n",
            " [160.           5.07026148]\n",
            " [170.           5.0479784 ]\n",
            " [180.           5.02710724]\n",
            " [190.           5.00739002]\n",
            " [200.           4.98865747]\n",
            " [210.           4.97079039]\n",
            " [220.           4.9537077 ]\n",
            " [230.           4.93734646]\n",
            " [240.           4.92165995]\n",
            " [250.           4.90660906]\n",
            " [260.           4.89216042]\n",
            " [270.           4.87828779]\n",
            " [280.           4.86496401]\n",
            " [290.           4.85216761]\n",
            " [300.           4.83987331]\n",
            " [310.           4.82806396]\n",
            " [320.           4.8167181 ]\n",
            " [330.           4.80581856]\n",
            " [340.           4.79534721]\n",
            " [350.           4.7852869 ]\n",
            " [360.           4.77562189]\n",
            " [370.           4.76633549]\n",
            " [380.           4.75741434]\n",
            " [390.           4.74884272]\n",
            " [400.           4.74060869]\n",
            " [410.           4.73269701]\n",
            " [420.           4.72509527]\n",
            " [430.           4.71779299]\n",
            " [440.           4.71077633]\n",
            " [450.           4.70403624]\n",
            " [460.           4.69755888]\n",
            " [470.           4.69133759]\n",
            " [480.           4.68536043]\n",
            " [490.           4.67961693]]\n"
          ]
        }
      ]
    },
    {
      "cell_type": "code",
      "source": [
        "############# 결과 평가\n",
        "# 최종 파라미터 값\n",
        "print('W = ', W.data.numpy())\n",
        "print('B = ', B.data.numpy())\n",
        "\n",
        "# 손실 확인\n",
        "print(f'초기상태: 손실 :{history[0,1]:.4f}')\n",
        "print(f'최종상태: 손실 :{history[-1,1]:.4f}')"
      ],
      "metadata": {
        "colab": {
          "base_uri": "https://localhost:8080/"
        },
        "id": "DqMrI-gSrQbI",
        "outputId": "2a5f4c94-4a68-457c-eeb1-1b4c450918f5"
      },
      "execution_count": 50,
      "outputs": [
        {
          "output_type": "stream",
          "name": "stdout",
          "text": [
            "W =  1.820683\n",
            "B =  0.3675114\n",
            "초기상태: 손실 :13.3520\n",
            "최종상태: 손실 :4.6796\n"
          ]
        }
      ]
    },
    {
      "cell_type": "code",
      "source": [
        "# 학습 곡선 출력(손실)\n",
        "\n",
        "plt.plot(history[:,0], history[:,1], 'b')\n",
        "plt.xlabel('반복 횟수')\n",
        "plt.ylabel('손실')\n",
        "plt.title('학습 곡선(손실)')\n",
        "plt.show()"
      ],
      "metadata": {
        "colab": {
          "base_uri": "https://localhost:8080/",
          "height": 470
        },
        "id": "e55kQEdzr2xQ",
        "outputId": "fc0aadd8-9d49-4e42-c3ba-7c03e1303799"
      },
      "execution_count": 52,
      "outputs": [
        {
          "output_type": "display_data",
          "data": {
            "text/plain": [
              "<Figure size 640x480 with 1 Axes>"
            ],
            "image/png": "[encoded data removed]"
          },
          "metadata": {}
        }
      ]
    },
    {
      "cell_type": "markdown",
      "source": [
        "# 최적화"
      ],
      "metadata": {
        "id": "KVP4v1mKsoB5"
      }
    },
    {
      "cell_type": "code",
      "source": [
        "############# 초기화\n",
        "\n",
        "# W와 B를 변수로 사용\n",
        "W = torch.tensor(1.0, requires_grad=True).float()\n",
        "B = torch.tensor(1.0, requires_grad=True).float()\n",
        "\n",
        "# 반복 횟수\n",
        "num_epochs = 500\n",
        "\n",
        "# 학습률\n",
        "lr = 0.001\n",
        "\n",
        "# optimizer로 SGD(확률적 경사 하강법) 사용\n",
        "import torch.optim as optim\n",
        "optimizer = optim.SGD([W, B], lr=lr)\n",
        "\n",
        "# history 기록을 위한 배열 초기화\n",
        "history = np.zeros((0, 2))"
      ],
      "metadata": {
        "id": "1hvfX-E8sox5"
      },
      "execution_count": 54,
      "outputs": []
    },
    {
      "cell_type": "code",
      "source": [
        "############# 루프 처리\n",
        "for epoch in range(num_epochs):\n",
        "  # 예측 계산\n",
        "  Yp = pred(X)\n",
        "\n",
        "  # 손실 계산\n",
        "  loss = mse(Yp, Y)\n",
        "\n",
        "  # 경사 계산\n",
        "  loss.backward()\n",
        "\n",
        "  # 파라미터 수정\n",
        "  optimizer.step()\n",
        "\n",
        "  # 경삿값 초기화\n",
        "  optimizer.zero_grad()\n",
        "\n",
        "  # 손실 기록\n",
        "  if (epoch % 10 == 0):\n",
        "    item = np.array([epoch, loss.item()])\n",
        "    history = np.vstack((history, item))\n",
        "    print(f'epoch = {epoch} loss = {loss:.4f}')"
      ],
      "metadata": {
        "colab": {
          "base_uri": "https://localhost:8080/"
        },
        "id": "e7slxGgxtNMP",
        "outputId": "2366aa80-e9a6-447d-c1c5-ac006b4185b1"
      },
      "execution_count": 55,
      "outputs": [
        {
          "output_type": "stream",
          "name": "stdout",
          "text": [
            "epoch = 0 loss = 13.3520\n",
            "epoch = 10 loss = 10.3855\n",
            "epoch = 20 loss = 8.5173\n",
            "epoch = 30 loss = 7.3364\n",
            "epoch = 40 loss = 6.5858\n",
            "epoch = 50 loss = 6.1047\n",
            "epoch = 60 loss = 5.7927\n",
            "epoch = 70 loss = 5.5868\n",
            "epoch = 80 loss = 5.4476\n",
            "epoch = 90 loss = 5.3507\n",
            "epoch = 100 loss = 5.2805\n",
            "epoch = 110 loss = 5.2275\n",
            "epoch = 120 loss = 5.1855\n",
            "epoch = 130 loss = 5.1507\n",
            "epoch = 140 loss = 5.1208\n",
            "epoch = 150 loss = 5.0943\n",
            "epoch = 160 loss = 5.0703\n",
            "epoch = 170 loss = 5.0480\n",
            "epoch = 180 loss = 5.0271\n",
            "epoch = 190 loss = 5.0074\n",
            "epoch = 200 loss = 4.9887\n",
            "epoch = 210 loss = 4.9708\n",
            "epoch = 220 loss = 4.9537\n",
            "epoch = 230 loss = 4.9373\n",
            "epoch = 240 loss = 4.9217\n",
            "epoch = 250 loss = 4.9066\n",
            "epoch = 260 loss = 4.8922\n",
            "epoch = 270 loss = 4.8783\n",
            "epoch = 280 loss = 4.8650\n",
            "epoch = 290 loss = 4.8522\n",
            "epoch = 300 loss = 4.8399\n",
            "epoch = 310 loss = 4.8281\n",
            "epoch = 320 loss = 4.8167\n",
            "epoch = 330 loss = 4.8058\n",
            "epoch = 340 loss = 4.7953\n",
            "epoch = 350 loss = 4.7853\n",
            "epoch = 360 loss = 4.7756\n",
            "epoch = 370 loss = 4.7663\n",
            "epoch = 380 loss = 4.7574\n",
            "epoch = 390 loss = 4.7488\n",
            "epoch = 400 loss = 4.7406\n",
            "epoch = 410 loss = 4.7327\n",
            "epoch = 420 loss = 4.7251\n",
            "epoch = 430 loss = 4.7178\n",
            "epoch = 440 loss = 4.7108\n",
            "epoch = 450 loss = 4.7040\n",
            "epoch = 460 loss = 4.6976\n",
            "epoch = 470 loss = 4.6913\n",
            "epoch = 480 loss = 4.6854\n",
            "epoch = 490 loss = 4.6796\n"
          ]
        }
      ]
    },
    {
      "cell_type": "code",
      "source": [
        "# 최종 파라미터 값\n",
        "print('W = ', W.data.numpy())\n",
        "print('B = ', B.data.numpy())\n",
        "\n",
        "# 손실 확인\n",
        "print(f'초기상태: 손실 :{history[0,1]:.4f}')\n",
        "print(f'최종상태: 손실 :{history[-1,1]:.4f}')"
      ],
      "metadata": {
        "colab": {
          "base_uri": "https://localhost:8080/"
        },
        "id": "b1l0weFwtjHe",
        "outputId": "2e102457-600b-4dbc-aacc-e6add8693a8e"
      },
      "execution_count": 56,
      "outputs": [
        {
          "output_type": "stream",
          "name": "stdout",
          "text": [
            "W =  1.820683\n",
            "B =  0.3675114\n",
            "초기상태: 손실 :13.3520\n",
            "최종상태: 손실 :4.6796\n"
          ]
        }
      ]
    },
    {
      "cell_type": "markdown",
      "source": [
        "## 최적화 함수 튜닝"
      ],
      "metadata": {
        "id": "qIc3FIfbuP0q"
      }
    },
    {
      "cell_type": "code",
      "source": [
        "############# 초기화\n",
        "\n",
        "# W와 B를 변수로 사용\n",
        "W = torch.tensor(1.0, requires_grad=True).float()\n",
        "B = torch.tensor(1.0, requires_grad=True).float()\n",
        "\n",
        "# 반복 횟수\n",
        "num_epochs = 500\n",
        "\n",
        "# 학습률\n",
        "lr = 0.001\n",
        "\n",
        "# optimizer로 SGD(확률적 경사 하강법) 사용\n",
        "import torch.optim as optim\n",
        "optimizer = optim.SGD([W, B], lr=lr, momentum=0.9)\n",
        "\n",
        "# history 기록을 위한 배열 초기화\n",
        "history2 = np.zeros((0, 2))"
      ],
      "metadata": {
        "id": "qlMM1NOZt5CZ"
      },
      "execution_count": 57,
      "outputs": []
    },
    {
      "cell_type": "code",
      "source": [
        "############# 루프 처리\n",
        "for epoch in range(num_epochs):\n",
        "  # 예측 계산\n",
        "  Yp = pred(X)\n",
        "\n",
        "  # 손실 계산\n",
        "  loss = mse(Yp, Y)\n",
        "\n",
        "  # 경사 계산\n",
        "  loss.backward()\n",
        "\n",
        "  # 파라미터 수정\n",
        "  optimizer.step()\n",
        "\n",
        "  # 경삿값 초기화\n",
        "  optimizer.zero_grad()\n",
        "\n",
        "  # 손실 기록\n",
        "  if (epoch % 10 == 0):\n",
        "    item = np.array([epoch, loss.item()])\n",
        "    history2 = np.vstack((history2, item))\n",
        "    print(f'epoch = {epoch} loss = {loss:.4f}')"
      ],
      "metadata": {
        "colab": {
          "base_uri": "https://localhost:8080/"
        },
        "id": "22tq026ixQ7q",
        "outputId": "0cbd8b26-81da-41af-cbbd-48fc0c48df61"
      },
      "execution_count": 59,
      "outputs": [
        {
          "output_type": "stream",
          "name": "stdout",
          "text": [
            "epoch = 0 loss = 13.3520\n",
            "epoch = 10 loss = 5.7585\n",
            "epoch = 20 loss = 5.9541\n",
            "epoch = 30 loss = 5.0276\n",
            "epoch = 40 loss = 4.8578\n",
            "epoch = 50 loss = 4.7052\n",
            "epoch = 60 loss = 4.6327\n",
            "epoch = 70 loss = 4.5940\n",
            "epoch = 80 loss = 4.5698\n",
            "epoch = 90 loss = 4.5574\n",
            "epoch = 100 loss = 4.5495\n",
            "epoch = 110 loss = 4.5452\n",
            "epoch = 120 loss = 4.5426\n",
            "epoch = 130 loss = 4.5411\n",
            "epoch = 140 loss = 4.5403\n",
            "epoch = 150 loss = 4.5398\n",
            "epoch = 160 loss = 4.5395\n",
            "epoch = 170 loss = 4.5393\n",
            "epoch = 180 loss = 4.5392\n",
            "epoch = 190 loss = 4.5391\n",
            "epoch = 200 loss = 4.5391\n",
            "epoch = 210 loss = 4.5391\n",
            "epoch = 220 loss = 4.5391\n",
            "epoch = 230 loss = 4.5390\n",
            "epoch = 240 loss = 4.5390\n",
            "epoch = 250 loss = 4.5390\n",
            "epoch = 260 loss = 4.5390\n",
            "epoch = 270 loss = 4.5390\n",
            "epoch = 280 loss = 4.5390\n",
            "epoch = 290 loss = 4.5390\n",
            "epoch = 300 loss = 4.5390\n",
            "epoch = 310 loss = 4.5390\n",
            "epoch = 320 loss = 4.5390\n",
            "epoch = 330 loss = 4.5390\n",
            "epoch = 340 loss = 4.5390\n",
            "epoch = 350 loss = 4.5390\n",
            "epoch = 360 loss = 4.5390\n",
            "epoch = 370 loss = 4.5390\n",
            "epoch = 380 loss = 4.5390\n",
            "epoch = 390 loss = 4.5390\n",
            "epoch = 400 loss = 4.5390\n",
            "epoch = 410 loss = 4.5390\n",
            "epoch = 420 loss = 4.5390\n",
            "epoch = 430 loss = 4.5390\n",
            "epoch = 440 loss = 4.5390\n",
            "epoch = 450 loss = 4.5390\n",
            "epoch = 460 loss = 4.5390\n",
            "epoch = 470 loss = 4.5390\n",
            "epoch = 480 loss = 4.5390\n",
            "epoch = 490 loss = 4.5390\n"
          ]
        }
      ]
    },
    {
      "cell_type": "code",
      "source": [
        "# 학습 곡선(손실) 출력\n",
        "plt.plot(history[:,0], history[:,1], 'b', label='기본값 설정')\n",
        "plt.plot(history2[:,0], history2[:,1], 'k', label='momentum=0.9')\n",
        "plt.xlabel('반복 횟수')\n",
        "plt.ylabel('손실')\n",
        "plt.legend()\n",
        "plt.title('학습 곡선(손실)')\n",
        "plt.show()"
      ],
      "metadata": {
        "colab": {
          "base_uri": "https://localhost:8080/",
          "height": 470
        },
        "id": "athrN21AuYJA",
        "outputId": "6fc898d8-8d9b-4483-9b0c-1637f9feb667"
      },
      "execution_count": 60,
      "outputs": [
        {
          "output_type": "display_data",
          "data": {
            "text/plain": [
              "<Figure size 640x480 with 1 Axes>"
            ],
            "image/png": "[encoded data removed]"
          },
          "metadata": {}
        }
      ]
    }
  ]
}